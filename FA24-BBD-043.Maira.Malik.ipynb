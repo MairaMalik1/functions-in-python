{
 "cells": [
  {
   "cell_type": "code",
   "execution_count": null,
   "id": "eb1404cd",
   "metadata": {},
   "outputs": [],
   "source": [
    "#MairaMalik\n",
    "#FA24-BBD-043"
   ]
  },
  {
   "cell_type": "code",
   "execution_count": 18,
   "id": "6014ddfd",
   "metadata": {},
   "outputs": [
    {
     "name": "stdout",
     "output_type": "stream",
     "text": [
      "Hello,maira! the current time is 12:22.\n"
     ]
    }
   ],
   "source": [
    "#question 1\n",
    "import time\n",
    "def greet_with_time(name):\n",
    "    current_time= time.strftime(\"%H:%M\")\n",
    "    print(f\"Hello,{name}! the current time is {current_time}.\")\n",
    "greet_with_time(\"maira\")"
   ]
  },
  {
   "cell_type": "code",
   "execution_count": 14,
   "id": "2f24de6d",
   "metadata": {},
   "outputs": [
    {
     "name": "stdout",
     "output_type": "stream",
     "text": [
      "The average is: 20.0\n"
     ]
    }
   ],
   "source": [
    "#question 2\n",
    "def calculate_average(num1, num2, num3):\n",
    "    average = (num1 + num2 + num3) / 3\n",
    "    return average\n",
    "result = calculate_average(10, 20, 30)\n",
    "print(f\"The average is: {result}\")"
   ]
  },
  {
   "cell_type": "code",
   "execution_count": 20,
   "id": "e06bf418",
   "metadata": {},
   "outputs": [
    {
     "name": "stdout",
     "output_type": "stream",
     "text": [
      "The final price after discount is 45.0\n",
      "The final price after discount is 42.5\n"
     ]
    }
   ],
   "source": [
    "#question 3\n",
    "def calculate_discount(price, discount_percentage=10):\n",
    "    discount_amount = (price * discount_percentage) / 100\n",
    "    final_price = price - discount_amount\n",
    "    return final_price\n",
    "final_price = calculate_discount(50)\n",
    "print(f\"The final price after discount is\",final_price)\n",
    "final_price2= calculate_discount(50,15)\n",
    "print(f\"The final price after discount is\", final_price2)"
   ]
  },
  {
   "cell_type": "code",
   "execution_count": 24,
   "id": "a1b78d54",
   "metadata": {},
   "outputs": [
    {
     "name": "stdout",
     "output_type": "stream",
     "text": [
      "Name:Maira\n",
      "Age:19\n",
      "City:Lahore\n"
     ]
    }
   ],
   "source": [
    "#question 4\n",
    "def print_info (name,age,city):\n",
    "    print(f\"Name:{name}\")\n",
    "    print(f\"Age:{age}\")\n",
    "    print(f\"City:{city}\")\n",
    "print_info(name=\"Maira\",age=\"19\",city=\"Lahore\")"
   ]
  },
  {
   "cell_type": "code",
   "execution_count": 25,
   "id": "2426230a",
   "metadata": {},
   "outputs": [
    {
     "name": "stdout",
     "output_type": "stream",
     "text": [
      "100\n",
      "None\n"
     ]
    }
   ],
   "source": [
    "#question 5\n",
    "def find_max(*args):\n",
    "    if not args: \n",
    "        return None\n",
    "    return max(args)\n",
    "print(find_max(1, 10, 100))  \n",
    "print(find_max())"
   ]
  },
  {
   "cell_type": "code",
   "execution_count": 28,
   "id": "a5028ab1",
   "metadata": {},
   "outputs": [
    {
     "name": "stdout",
     "output_type": "stream",
     "text": [
      "720\n",
      "1\n"
     ]
    }
   ],
   "source": [
    "#question 6\n",
    "def factorial(n):\n",
    "    if n == 0 or n == 1:\n",
    "        return 1\n",
    "    else:\n",
    "        return n * factorial(n - 1)\n",
    "print(factorial(6)) \n",
    "print(factorial(1))"
   ]
  },
  {
   "cell_type": "code",
   "execution_count": 29,
   "id": "3d4a8843",
   "metadata": {},
   "outputs": [
    {
     "name": "stdout",
     "output_type": "stream",
     "text": [
      "[1, 1, 2, 6, 24]\n"
     ]
    }
   ],
   "source": [
    "#question 7\n",
    "def apply_function(function, numbers):\n",
    "    return [function(num) for num in numbers]\n",
    "def factorial(n):\n",
    "    if n == 0 or n == 1:\n",
    "        return 1\n",
    "    else:\n",
    "        return n * factorial(n - 1)\n",
    "result = apply_function(factorial,[0,1,2,3,4])\n",
    "print(result)\n"
   ]
  },
  {
   "cell_type": "code",
   "execution_count": 32,
   "id": "57a01503",
   "metadata": {},
   "outputs": [
    {
     "name": "stdout",
     "output_type": "stream",
     "text": [
      "25\n"
     ]
    }
   ],
   "source": [
    "#question 8\n",
    "square = lambda n: n ** 2\n",
    "print(square(5))"
   ]
  },
  {
   "cell_type": "code",
   "execution_count": 33,
   "id": "9542139a",
   "metadata": {},
   "outputs": [
    {
     "name": "stdout",
     "output_type": "stream",
     "text": [
      "[1, 1, 2, 6, 24]\n"
     ]
    }
   ],
   "source": [
    "#question 9\n",
    "def apply_operation(function, numbers):\n",
    "    return [function(num) for num in numbers]\n",
    "def factorial(n):\n",
    "    if n == 0 or n == 1:\n",
    "        return 1\n",
    "    else:\n",
    "        return n * factorial(n - 1)\n",
    "result = apply_operation(factorial,[0,1,2,3,4])\n",
    "print(result)"
   ]
  },
  {
   "cell_type": "code",
   "execution_count": 34,
   "id": "f3cce701",
   "metadata": {},
   "outputs": [
    {
     "name": "stdout",
     "output_type": "stream",
     "text": [
      "Execution time for slow_function: 2.0008 seconds\n"
     ]
    }
   ],
   "source": [
    "#question 10\n",
    "import time\n",
    "def time_it(func):\n",
    "    def wrapper(*args, **kwargs):\n",
    "        start_time = time.time() \n",
    "        result = func(*args, **kwargs) \n",
    "        end_time = time.time()  \n",
    "        execution_time = end_time - start_time  \n",
    "        print(f\"Execution time for {func.__name__}: {execution_time:.4f} seconds\")\n",
    "        return result\n",
    "    return wrapper\n",
    "@time_it\n",
    "def slow_function():\n",
    "    time.sleep(2) \n",
    "slow_function() "
   ]
  },
  {
   "cell_type": "code",
   "execution_count": null,
   "id": "37739c8b",
   "metadata": {},
   "outputs": [],
   "source": []
  }
 ],
 "metadata": {
  "kernelspec": {
   "display_name": "Python 3 (ipykernel)",
   "language": "python",
   "name": "python3"
  },
  "language_info": {
   "codemirror_mode": {
    "name": "ipython",
    "version": 3
   },
   "file_extension": ".py",
   "mimetype": "text/x-python",
   "name": "python",
   "nbconvert_exporter": "python",
   "pygments_lexer": "ipython3",
   "version": "3.11.5"
  }
 },
 "nbformat": 4,
 "nbformat_minor": 5
}
